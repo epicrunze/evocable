{
 "cells": [
  {
   "cell_type": "code",
   "execution_count": 1,
   "metadata": {},
   "outputs": [
    {
     "name": "stderr",
     "output_type": "stream",
     "text": [
      "2022-07-26 00:49:30 | INFO | fairseq.tasks.speech_to_text | dictionary size (vocab.txt): 75\n"
     ]
    }
   ],
   "source": [
    "from fairseq.checkpoint_utils import load_model_ensemble_and_task_from_hf_hub\n",
    "from fairseq.models.text_to_speech.hub_interface import TTSHubInterface\n",
    "import IPython.display as ipd\n",
    "\n",
    "\n",
    "models, cfg, task = load_model_ensemble_and_task_from_hf_hub(\n",
    "    \"facebook/fastspeech2-en-ljspeech\",\n",
    "    arg_overrides={\"vocoder\": \"hifigan\", \"fp16\": False}\n",
    ")\n"
   ]
  },
  {
   "cell_type": "code",
   "execution_count": 8,
   "metadata": {},
   "outputs": [
    {
     "name": "stderr",
     "output_type": "stream",
     "text": [
      "2022-07-26 00:55:16 | INFO | fairseq.models.text_to_speech.vocoder | loaded HiFiGAN checkpoint from C:/Users/ryanr/.cache/fairseq/models--facebook--fastspeech2-en-ljspeech/snapshots/a3e3e5e2e62bb7ca7514b11aa469e9c5b01a20bf/hifigan.bin\n"
     ]
    }
   ],
   "source": [
    "model = models[0]\n",
    "TTSHubInterface.update_cfg_with_data_cfg(cfg, task.data_cfg)\n",
    "generator = task.build_generator(models, cfg)\n",
    "\n",
    "text = \"Privet Drive was a perfectly normal street. It was lined with perfectly normal houses, one nearly identical to the next. The inhabitants of these homes were all perfectly normal people as well, save for one house. In this house lived a family who tried its hardest to be perfectly normal. But there has always been one aspect of Mr. and Mrs. Dursley's lives that has never been anything close to their definition of normal. That thing was sitting on his lumpy bed in the smallest room of the house, filled with their son's old, broken toys accumulated throughout his pampered life. That thing was none other than their nephew, Harry Potter.\"\n",
    "\n",
    "model = model.to(\"cuda:0\")\n",
    "\n",
    "sample = TTSHubInterface.get_model_input(task, text)\n",
    "sample[\"net_input\"][\"src_tokens\"] = sample[\"net_input\"][\"src_tokens\"].to(\"cuda:0\")\n",
    "sample[\"net_input\"][\"src_lengths\"] = sample[\"net_input\"][\"src_lengths\"].to(\"cuda:0\")\n",
    "wav, rate = TTSHubInterface.get_prediction(task, model, generator, sample)\n"
   ]
  },
  {
   "cell_type": "code",
   "execution_count": null,
   "metadata": {},
   "outputs": [],
   "source": [
    "import numpy as np\n",
    "from scipy.io.wavfile import write\n",
    "\n",
    "data = wav.cpu().numpy() # 44100 random samples between -1 and 1\n",
    "scaled = np.int16(data/np.max(np.abs(data)) * 32767)\n",
    "write('test.wav', rate, scaled)"
   ]
  },
  {
   "cell_type": "code",
   "execution_count": null,
   "metadata": {},
   "outputs": [],
   "source": []
  }
 ],
 "metadata": {
  "interpreter": {
   "hash": "48b17a399d4c7de465ada73120c63e00fef005f5a9afab28909b4870be1ea5c9"
  },
  "kernelspec": {
   "display_name": "Python 3.9.7 64-bit ('ENV': venv)",
   "language": "python",
   "name": "python3"
  },
  "language_info": {
   "codemirror_mode": {
    "name": "ipython",
    "version": 3
   },
   "file_extension": ".py",
   "mimetype": "text/x-python",
   "name": "python",
   "nbconvert_exporter": "python",
   "pygments_lexer": "ipython3",
   "version": "3.9.1"
  },
  "orig_nbformat": 4
 },
 "nbformat": 4,
 "nbformat_minor": 2
}
